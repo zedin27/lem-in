{
 "cells": [
  {
   "cell_type": "code",
   "execution_count": 8,
   "metadata": {},
   "outputs": [],
   "source": [
    "import networkx as nx\n",
    "import matplotlib.pyplot as plt\n",
    "import seaborn as sns\n",
    "%matplotlib notebook\n",
    "sns.set()"
   ]
  },
  {
   "cell_type": "code",
   "execution_count": 10,
   "metadata": {},
   "outputs": [
    {
     "data": {
      "image/png": "[encoded data removed]",
      "text/plain": [
       "<Figure size 432x288 with 1 Axes>"
      ]
     },
     "metadata": {
      "needs_background": "light"
     },
     "output_type": "display_data"
    }
   ],
   "source": [
    "import re\n",
    "import pandas as pd\n",
    "import networkx as nx\n",
    "import matplotlib.pyplot as plt\n",
    "%matplotlib inline\n",
    "\n",
    "def file_parsing(file_path):\n",
    "    cnt = 0\n",
    "    output_list = []\n",
    "    edge_list = []\n",
    "    with open(file_path, 'r') as fp:\n",
    "        for line in fp:\n",
    "            cnt += 1\n",
    "            #checks for the room name and coordinates\n",
    "            if re.match('([^\\s#]{1,10}) (\\d+) (\\d+)', line, re.MULTILINE):\n",
    "                output_list.append(line.strip().split(' '))\n",
    "            #checks for start\n",
    "            if line.startswith('##start'):\n",
    "                output_list.append(next(fp, '').strip().split())\n",
    "            #checks for start\n",
    "            if line.startswith('##end'):\n",
    "                output_list.append(next(fp, '').strip().split())\n",
    "\n",
    "            # --------- Check for edges -----------#\n",
    "            if '-' in line:\n",
    "                src, dest = line.split('-')\n",
    "                edge_list.append([src.strip(), dest.strip()])\n",
    "    room_name = [item[0] for item in output_list]\n",
    "    x_coord = [int(item[1]) for item in output_list]\n",
    "    y_coord = [int(item[2]) for item in output_list]\n",
    "    x_y = list(zip(x_coord, y_coord))\n",
    "    pos_dict = dict(zip(room_name, x_y))\n",
    "\n",
    "    return pos_dict, edge_list\n",
    "\n",
    "room_pos_dict, edge_list = file_parsing('ex.txt')\n",
    "\n",
    "G = nx.DiGraph()\n",
    "G.add_nodes_from(room_pos_dict.keys())\n",
    "\n",
    "#----------- Add edges from the edge list ------ \n",
    "G.add_edges_from(edge_list)\n",
    "\n",
    "nx.set_node_attributes(G, room_pos_dict, 'pos')\n",
    "nx.draw_networkx(G, pos=nx.get_node_attributes(G, 'pos'))"
   ]
  }
 ],
 "metadata": {
  "kernelspec": {
   "display_name": "Python 3",
   "language": "python",
   "name": "python3"
  },
  "language_info": {
   "codemirror_mode": {
    "name": "ipython",
    "version": 3
   },
   "file_extension": ".py",
   "mimetype": "text/x-python",
   "name": "python",
   "nbconvert_exporter": "python",
   "pygments_lexer": "ipython3",
   "version": "3.7.1"
  }
 },
 "nbformat": 4,
 "nbformat_minor": 2
}
